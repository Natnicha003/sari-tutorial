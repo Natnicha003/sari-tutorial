{
 "cells": [
  {
   "cell_type": "code",
   "execution_count": 1,
   "metadata": {},
   "outputs": [],
   "source": [
    "from pathlib import Path\n",
    "import json"
   ]
  },
  {
   "cell_type": "code",
   "execution_count": 43,
   "metadata": {},
   "outputs": [
    {
     "data": {
      "text/plain": [
       "[PosixPath('2-Some GIS/2_GIS.ipynb'),\n",
       " PosixPath('3-Backscatter/3_Backscatter.ipynb'),\n",
       " PosixPath('4-Despeckling/4_Despeckling.ipynb'),\n",
       " PosixPath('5-Making an RGB from Backscatter/5_RGB_Composites.ipynb'),\n",
       " PosixPath('6-Coherence/6_Coherence.ipynb'),\n",
       " PosixPath('7-Superpixel Segmentation of Backscatter/7_Superpixels.ipynb'),\n",
       " PosixPath('8-Change Detection/8_Change_Detection.ipynb')]"
      ]
     },
     "execution_count": 43,
     "metadata": {},
     "output_type": "execute_result"
    }
   ],
   "source": [
    "ipynbs = sorted(list(Path('.').glob('*/*.ipynb')))\n",
    "ipynbs = list(filter(lambda x: 'checkpoints' not in str(x), ipynbs))\n",
    "ipynbs = list(filter(lambda x: '_no_solutions' not in str(x), ipynbs))\n",
    "\n",
    "ipynbs"
   ]
  },
  {
   "cell_type": "code",
   "execution_count": 13,
   "metadata": {},
   "outputs": [],
   "source": [
    "data = json.load(open(ipynbs[0], 'r'))\n",
    "cells = data['cells']"
   ]
  },
  {
   "cell_type": "code",
   "execution_count": 35,
   "metadata": {},
   "outputs": [],
   "source": [
    "def remove_answer(cell):\n",
    "    source = cell['source']\n",
    "    cell_new = cell.copy()\n",
    "    \n",
    "    if len(source)>0 and '## Answer' in source[0]:\n",
    "        cell_new['source'] = '## Answer'\n",
    "        cell_new['outputs'] = []\n",
    "        return cell_new\n",
    "    else:\n",
    "        return cell\n",
    "\n",
    "filtered_cells = list(map(remove_answer, cells))"
   ]
  },
  {
   "cell_type": "code",
   "execution_count": 41,
   "metadata": {},
   "outputs": [],
   "source": [
    "def copy_ipynb_without_answers(ipynb_path):\n",
    "    data = json.load(open(ipynb_path, 'r'))\n",
    "    cells = data['cells']\n",
    "    filtered_cells = list(map(remove_answer, cells))\n",
    "    \n",
    "    data_new = data.copy()\n",
    "    data_new['cells'] = filtered_cells\n",
    "    \n",
    "    dest_path = Path(str(ipynb_path).replace('.ipynb', '_no_solutions.ipynb'))\n",
    "    json.dump(data_new, open(dest_path, 'w'))\n",
    "    return dest_path\n"
   ]
  },
  {
   "cell_type": "code",
   "execution_count": 42,
   "metadata": {},
   "outputs": [
    {
     "data": {
      "text/plain": [
       "[PosixPath('2-Some GIS/2_GIS_no_solutions.ipynb'),\n",
       " PosixPath('3-Backscatter/3_Backscatter_no_solutions.ipynb'),\n",
       " PosixPath('4-Despeckling/4_Despeckling_no_solutions.ipynb'),\n",
       " PosixPath('5-Making an RGB from Backscatter/5_RGB_Composites_no_solutions.ipynb'),\n",
       " PosixPath('6-Coherence/6_Coherence_no_solutions.ipynb'),\n",
       " PosixPath('7-Superpixel Segmentation of Backscatter/7_Superpixels_no_solutions.ipynb'),\n",
       " PosixPath('8-Change Detection/8_Change_Detection_no_solutions.ipynb')]"
      ]
     },
     "execution_count": 42,
     "metadata": {},
     "output_type": "execute_result"
    }
   ],
   "source": [
    "list(map(copy_ipynb_without_answers, ipynbs))"
   ]
  },
  {
   "cell_type": "code",
   "execution_count": null,
   "metadata": {},
   "outputs": [],
   "source": []
  }
 ],
 "metadata": {
  "kernelspec": {
   "display_name": "Python 3",
   "language": "python",
   "name": "python3"
  },
  "language_info": {
   "codemirror_mode": {
    "name": "ipython",
    "version": 3
   },
   "file_extension": ".py",
   "mimetype": "text/x-python",
   "name": "python",
   "nbconvert_exporter": "python",
   "pygments_lexer": "ipython3",
   "version": "3.7.3"
  }
 },
 "nbformat": 4,
 "nbformat_minor": 2
}

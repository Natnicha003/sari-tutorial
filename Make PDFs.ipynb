{
 "cells": [
  {
   "cell_type": "code",
   "execution_count": 2,
   "metadata": {},
   "outputs": [],
   "source": [
    "from pathlib import Path\n",
    "import subprocess\n",
    "from tqdm import tqdm\n",
    "from PyPDF2 import PdfFileMerger"
   ]
  },
  {
   "cell_type": "code",
   "execution_count": 3,
   "metadata": {},
   "outputs": [
    {
     "data": {
      "text/plain": [
       "[PosixPath('2_GIS/2_GIS.ipynb'),\n",
       " PosixPath('3_Backscatter/3_Backscatter.ipynb'),\n",
       " PosixPath('4_Despeckling/4_Despeckling.ipynb'),\n",
       " PosixPath('5_RGB_Composites/5_RGB_Composites.ipynb'),\n",
       " PosixPath('6-Coherence/6_Coherence.ipynb'),\n",
       " PosixPath('7_Superpixel_Segmentation/7_Superpixel_Segmentation.ipynb'),\n",
       " PosixPath('8_Change_Detection/8_Change_Detection.ipynb')]"
      ]
     },
     "execution_count": 3,
     "metadata": {},
     "output_type": "execute_result"
    }
   ],
   "source": [
    "ipynbs = sorted(list(Path('.').glob('*/*.ipynb')))\n",
    "ipynbs = list(filter(lambda x: 'checkpoints' not in str(x), ipynbs))\n",
    "ipynbs = list(filter(lambda x: '_no_solutions' not in str(x), ipynbs))\n",
    "ipynbs"
   ]
  },
  {
   "cell_type": "code",
   "execution_count": 4,
   "metadata": {},
   "outputs": [],
   "source": [
    "def make_one_pdf(ipynb_path):\n",
    "    exec_str = 'jupyter nbconvert ' + str(ipynb_path) + ' --to pdf'\n",
    "    out = subprocess.getoutput(exec_str)\n",
    "    return out"
   ]
  },
  {
   "cell_type": "code",
   "execution_count": 6,
   "metadata": {},
   "outputs": [],
   "source": [
    "#outs = list(map(make_one_pdf, tqdm(ipynbs)))"
   ]
  },
  {
   "cell_type": "code",
   "execution_count": 7,
   "metadata": {},
   "outputs": [
    {
     "data": {
      "text/plain": [
       "[PosixPath('2_GIS/2_GIS.pdf'),\n",
       " PosixPath('3_Backscatter/3_Backscatter.pdf'),\n",
       " PosixPath('4_Despeckling/4_Despeckling.pdf'),\n",
       " PosixPath('5_RGB_Composites/5_RGB_Composites.pdf'),\n",
       " PosixPath('6-Coherence/6_Coherence.pdf'),\n",
       " PosixPath('7_Superpixel_Segmentation/7_Superpixel_Segmentation.pdf'),\n",
       " PosixPath('8_Change_Detection/8_Change_Detection.pdf')]"
      ]
     },
     "execution_count": 7,
     "metadata": {},
     "output_type": "execute_result"
    }
   ],
   "source": [
    "pdf_paths = sorted(list(Path('.').glob('*/*.pdf')))\n",
    "pdf_paths"
   ]
  },
  {
   "cell_type": "code",
   "execution_count": 11,
   "metadata": {},
   "outputs": [],
   "source": [
    "pdf_merger = PdfFileMerger()\n",
    " \n",
    "for path in pdf_paths:\n",
    "    pdf_merger.append(str(path), bookmark=path.name)\n",
    " \n",
    "with open('tutorial.pdf', 'wb') as fileobj:\n",
    "    pdf_merger.write(fileobj)"
   ]
  },
  {
   "cell_type": "code",
   "execution_count": null,
   "metadata": {},
   "outputs": [],
   "source": []
  }
 ],
 "metadata": {
  "kernelspec": {
   "display_name": "Python 3",
   "language": "python",
   "name": "python3"
  },
  "language_info": {
   "codemirror_mode": {
    "name": "ipython",
    "version": 3
   },
   "file_extension": ".py",
   "mimetype": "text/x-python",
   "name": "python",
   "nbconvert_exporter": "python",
   "pygments_lexer": "ipython3",
   "version": "3.7.3"
  }
 },
 "nbformat": 4,
 "nbformat_minor": 2
}
